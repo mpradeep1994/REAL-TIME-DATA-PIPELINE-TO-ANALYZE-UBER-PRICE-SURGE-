{
 "cells": [
  {
   "cell_type": "code",
   "execution_count": 1,
   "metadata": {},
   "outputs": [],
   "source": [
    "import time\n",
    "import sys\n",
    "sys.path.append('PriceRequest_UberAPI/')\n",
    "from itertools import permutations\n",
    "from PriceRequest_UberAPI import uberpricing\n",
    "from messageProducer import genMessage"
   ]
  },
  {
   "cell_type": "code",
   "execution_count": 2,
   "metadata": {},
   "outputs": [],
   "source": [
    "from kafka import KafkaClient, KeyedProducer, SimpleProducer\n",
    "\n",
    "'''This is a program to send message to Kafka Topic. Start and End point is used as unique Key for the Keyed producer'''\n",
    "\n",
    "kafka=KafkaClient(\"localhost:9092\")\n",
    "producer = KeyedProducer(kafka)\n",
    "def genMessage(msg,key,topic):\n",
    "    producer.send_messages(topic,key, msg)"
   ]
  },
  {
   "cell_type": "code",
   "execution_count": 3,
   "metadata": {},
   "outputs": [],
   "source": [
    "from uber_rides.session import Session\n",
    "from uber_rides.client import UberRidesClient\n",
    "#Add the token\n",
    "session = Session(server_token='DGdtuZb4i7zwENbYaVSPwuXLBtnzwkI2DigBmtmf')\n",
    "def getPriceEstimate(start_lat,start_long,end_lat,end_long):\n",
    "    client = UberRidesClient(session)\n",
    "    p=client.get_price_estimates(start_lat,start_long,end_lat,end_long)\n",
    "    key=str(start_lat)+\"|\"+str(start_long)+\"|\"+str(end_lat)+\"|\"+str(end_long)\n",
    "    return str(p.json.get('prices')),key"
   ]
  },
  {
   "cell_type": "code",
   "execution_count": 4,
   "metadata": {},
   "outputs": [],
   "source": [
    "#List of Locations\n",
    "loc1=(37.787817,-122.396595)#Galvanize\n",
    "loc2=(37.776908,-122.394825)#Caltrain\n",
    "loc3=(37.810470, -122.476624)#\n",
    "loc4=(37.775505, -122.446444)#USF\n",
    "loc5=(37.810604,-122.409856)#Pier39\n",
    "loc6=(37.687802, -122.470648)#Daly City\n",
    "loc7=(37.737842, -122.431546)#GlenPark\n",
    "loc8=(37.768719, -122.488666)#GoldenGatePark\n",
    "loc9=(37.621206, -122.388759)#Airport\n",
    "loc10=(37.692554, -122.432361)#San Bruno MOuntain State Park\n",
    "loc_list=[loc1,loc2,loc3,loc4,loc5,loc6,loc7,loc8,loc9,loc10]\n",
    "topic=\"test\"\n",
    "\n",
    "total_route=list(permutations(loc_list,2))\n",
    "ordered_route=sorted(total_route,key=(lambda x:x[1]))"
   ]
  },
  {
   "cell_type": "code",
   "execution_count": 5,
   "metadata": {},
   "outputs": [],
   "source": [
    "'''This is a job scheduler which sends a request to Uber API \n",
    "to get pricing Details and then send message to Kafka Topic.\n",
    "'''\n",
    "for route in ordered_route:\n",
    "    message,key=getPriceEstimate(route[0][0],route[0][1],route[1][0],route[1][1])\n",
    "    genMessage(message,key,topic)"
   ]
  },
  {
   "cell_type": "code",
   "execution_count": null,
   "metadata": {},
   "outputs": [],
   "source": []
  }
 ],
 "metadata": {
  "kernelspec": {
   "display_name": "Python 2",
   "language": "python",
   "name": "python2"
  },
  "language_info": {
   "codemirror_mode": {
    "name": "ipython",
    "version": 2
   },
   "file_extension": ".py",
   "mimetype": "text/x-python",
   "name": "python",
   "nbconvert_exporter": "python",
   "pygments_lexer": "ipython2",
   "version": "2.7.14"
  }
 },
 "nbformat": 4,
 "nbformat_minor": 2
}
