{
 "cells": [
  {
   "cell_type": "code",
   "execution_count": 32,
   "metadata": {},
   "outputs": [],
   "source": [
    "import time\n",
    "import json\n",
    "import sys\n",
    "sys.path.append('PriceRequest_UberAPI/')\n",
    "from itertools import permutations\n",
    "#from PriceRequest_UberAPI import uberpricing\n",
    "#from messageProducer import genMessage"
   ]
  },
  {
   "cell_type": "code",
   "execution_count": 22,
   "metadata": {},
   "outputs": [],
   "source": [
    "from kafka import KafkaClient, KeyedProducer, SimpleProducer\n",
    "\n",
    "'''This is a program to send message to Kafka Topic. Start and End point is used as unique Key for the Keyed producer'''\n",
    "kafka=KafkaClient(\"localhost:9092\")\n",
    "producer = KeyedProducer(kafka)\n",
    "def genMessage(msg,key,topic):\n",
    "    producer.send_messages(topic,key, msg)"
   ]
  },
  {
   "cell_type": "code",
   "execution_count": 33,
   "metadata": {},
   "outputs": [],
   "source": [
    "from uber_rides.session import Session\n",
    "from uber_rides.client import UberRidesClient\n",
    "\n",
    "session = Session(server_token='DGdtuZb4i7zwENbYaVSPwuXLBtnzwkI2DigBmtmf')\n",
    "def getPriceEstimate(key,start_lat,start_long,end_lat,end_long):\n",
    "    client = UberRidesClient(session)\n",
    "    p=client.get_price_estimates(start_lat,start_long,end_lat,end_long)\n",
    "    k_lat_long=key+\"|\"+str(start_lat)+\"|\"+str(start_long)+\"|\"+str(end_lat)+\"|\"+str(end_long)\n",
    "    print json.dump(p)\n",
    "    value=p.json.get('prices')[0]\n",
    "    print value.keys()\n",
    "    value['key'] = k_lat_long\n",
    "    return str(value),str(key)"
   ]
  },
  {
   "cell_type": "code",
   "execution_count": 34,
   "metadata": {},
   "outputs": [],
   "source": [
    "#List of Locations\n",
    "loc1=(37.787817,-122.396595)#Galvanize\n",
    "loc2=(37.776908,-122.394825)#Caltrain\n",
    "loc3=(37.810470, -122.476624)#\n",
    "loc4=(37.775505, -122.446444)#USF\n",
    "loc5=(37.810604,-122.409856)#Pier39\n",
    "loc6=(37.687802, -122.470648)#Daly City\n",
    "loc7=(37.737842, -122.431546)#GlenPark\n",
    "loc8=(37.768719, -122.488666)#GoldenGatePark\n",
    "loc9=(37.621206, -122.388759)#Airport\n",
    "loc10=(37.692554, -122.432361)#San Bruno MOuntain State Park\n",
    "\n",
    "location_dict={}\n",
    "permutation_dict={}\n",
    "location_dict.update({'A':loc1,\n",
    "                      'B':loc2,\n",
    "                      'C':loc3,\n",
    "                      'D':loc4,\n",
    "                      'E':loc5,\n",
    "                      'F':loc6, \n",
    "                      'G':loc7, \n",
    "                      'H':loc8,\n",
    "                      'G':loc9,\n",
    "                      'I':loc10})\n",
    "\n",
    "loc_list=[loc1,loc2,loc3,loc4,loc5,loc6,loc7,loc8,loc9,loc10]\n",
    "topic=\"test\"\n",
    "\n",
    "#total_route=list(permutations(location_dict.itervalues(),2))\n",
    "#ordered_route=sorted(total_route,key=(lambda x:x[1]))\n",
    "\n",
    "total_route=list(permutations(location_dict,2))\n",
    "ordered_route=sorted(total_route,key=(lambda x:x[0]))\n",
    "for start,dest in ordered_route:\n",
    "    key = start+'-'+dest\n",
    "    permutation_dict[key] = [(location_dict[start],location_dict[dest])]"
   ]
  },
  {
   "cell_type": "code",
   "execution_count": 35,
   "metadata": {},
   "outputs": [
    {
     "ename": "TypeError",
     "evalue": "dump() takes at least 2 arguments (1 given)",
     "output_type": "error",
     "traceback": [
      "\u001b[1;31m---------------------------------------------------------------------------\u001b[0m",
      "\u001b[1;31mTypeError\u001b[0m                                 Traceback (most recent call last)",
      "\u001b[1;32m<ipython-input-35-d3c961999a86>\u001b[0m in \u001b[0;36m<module>\u001b[1;34m()\u001b[0m\n\u001b[0;32m      3\u001b[0m '''\n\u001b[0;32m      4\u001b[0m \u001b[1;32mfor\u001b[0m \u001b[0mroute\u001b[0m \u001b[1;32min\u001b[0m \u001b[0mpermutation_dict\u001b[0m\u001b[1;33m:\u001b[0m\u001b[1;33m\u001b[0m\u001b[0m\n\u001b[1;32m----> 5\u001b[1;33m     \u001b[0mmessage\u001b[0m\u001b[1;33m,\u001b[0m\u001b[0mkey\u001b[0m\u001b[1;33m=\u001b[0m\u001b[0mgetPriceEstimate\u001b[0m\u001b[1;33m(\u001b[0m\u001b[0mroute\u001b[0m\u001b[1;33m,\u001b[0m\u001b[0mpermutation_dict\u001b[0m\u001b[1;33m[\u001b[0m\u001b[0mroute\u001b[0m\u001b[1;33m]\u001b[0m\u001b[1;33m[\u001b[0m\u001b[1;36m0\u001b[0m\u001b[1;33m]\u001b[0m\u001b[1;33m[\u001b[0m\u001b[1;36m0\u001b[0m\u001b[1;33m]\u001b[0m\u001b[1;33m[\u001b[0m\u001b[1;36m0\u001b[0m\u001b[1;33m]\u001b[0m\u001b[1;33m,\u001b[0m\u001b[0mpermutation_dict\u001b[0m\u001b[1;33m[\u001b[0m\u001b[0mroute\u001b[0m\u001b[1;33m]\u001b[0m\u001b[1;33m[\u001b[0m\u001b[1;36m0\u001b[0m\u001b[1;33m]\u001b[0m\u001b[1;33m[\u001b[0m\u001b[1;36m0\u001b[0m\u001b[1;33m]\u001b[0m\u001b[1;33m[\u001b[0m\u001b[1;36m1\u001b[0m\u001b[1;33m]\u001b[0m\u001b[1;33m,\u001b[0m\u001b[0mpermutation_dict\u001b[0m\u001b[1;33m[\u001b[0m\u001b[0mroute\u001b[0m\u001b[1;33m]\u001b[0m\u001b[1;33m[\u001b[0m\u001b[1;36m0\u001b[0m\u001b[1;33m]\u001b[0m\u001b[1;33m[\u001b[0m\u001b[1;36m1\u001b[0m\u001b[1;33m]\u001b[0m\u001b[1;33m[\u001b[0m\u001b[1;36m0\u001b[0m\u001b[1;33m]\u001b[0m\u001b[1;33m,\u001b[0m\u001b[0mpermutation_dict\u001b[0m\u001b[1;33m[\u001b[0m\u001b[0mroute\u001b[0m\u001b[1;33m]\u001b[0m\u001b[1;33m[\u001b[0m\u001b[1;36m0\u001b[0m\u001b[1;33m]\u001b[0m\u001b[1;33m[\u001b[0m\u001b[1;36m1\u001b[0m\u001b[1;33m]\u001b[0m\u001b[1;33m[\u001b[0m\u001b[1;36m1\u001b[0m\u001b[1;33m]\u001b[0m\u001b[1;33m)\u001b[0m\u001b[1;33m\u001b[0m\u001b[0m\n\u001b[0m\u001b[0;32m      6\u001b[0m \u001b[1;33m\u001b[0m\u001b[0m\n\u001b[0;32m      7\u001b[0m     \u001b[0mgenMessage\u001b[0m\u001b[1;33m(\u001b[0m\u001b[0mmessage\u001b[0m\u001b[1;33m,\u001b[0m\u001b[0mkey\u001b[0m\u001b[1;33m,\u001b[0m\u001b[0mtopic\u001b[0m\u001b[1;33m)\u001b[0m\u001b[1;33m\u001b[0m\u001b[0m\n",
      "\u001b[1;32m<ipython-input-33-963093dd31ba>\u001b[0m in \u001b[0;36mgetPriceEstimate\u001b[1;34m(key, start_lat, start_long, end_lat, end_long)\u001b[0m\n\u001b[0;32m      7\u001b[0m     \u001b[0mp\u001b[0m\u001b[1;33m=\u001b[0m\u001b[0mclient\u001b[0m\u001b[1;33m.\u001b[0m\u001b[0mget_price_estimates\u001b[0m\u001b[1;33m(\u001b[0m\u001b[0mstart_lat\u001b[0m\u001b[1;33m,\u001b[0m\u001b[0mstart_long\u001b[0m\u001b[1;33m,\u001b[0m\u001b[0mend_lat\u001b[0m\u001b[1;33m,\u001b[0m\u001b[0mend_long\u001b[0m\u001b[1;33m)\u001b[0m\u001b[1;33m\u001b[0m\u001b[0m\n\u001b[0;32m      8\u001b[0m     \u001b[0mk_lat_long\u001b[0m\u001b[1;33m=\u001b[0m\u001b[0mkey\u001b[0m\u001b[1;33m+\u001b[0m\u001b[1;34m\"|\"\u001b[0m\u001b[1;33m+\u001b[0m\u001b[0mstr\u001b[0m\u001b[1;33m(\u001b[0m\u001b[0mstart_lat\u001b[0m\u001b[1;33m)\u001b[0m\u001b[1;33m+\u001b[0m\u001b[1;34m\"|\"\u001b[0m\u001b[1;33m+\u001b[0m\u001b[0mstr\u001b[0m\u001b[1;33m(\u001b[0m\u001b[0mstart_long\u001b[0m\u001b[1;33m)\u001b[0m\u001b[1;33m+\u001b[0m\u001b[1;34m\"|\"\u001b[0m\u001b[1;33m+\u001b[0m\u001b[0mstr\u001b[0m\u001b[1;33m(\u001b[0m\u001b[0mend_lat\u001b[0m\u001b[1;33m)\u001b[0m\u001b[1;33m+\u001b[0m\u001b[1;34m\"|\"\u001b[0m\u001b[1;33m+\u001b[0m\u001b[0mstr\u001b[0m\u001b[1;33m(\u001b[0m\u001b[0mend_long\u001b[0m\u001b[1;33m)\u001b[0m\u001b[1;33m\u001b[0m\u001b[0m\n\u001b[1;32m----> 9\u001b[1;33m     \u001b[1;32mprint\u001b[0m \u001b[0mjson\u001b[0m\u001b[1;33m.\u001b[0m\u001b[0mdump\u001b[0m\u001b[1;33m(\u001b[0m\u001b[0mp\u001b[0m\u001b[1;33m)\u001b[0m\u001b[1;33m\u001b[0m\u001b[0m\n\u001b[0m\u001b[0;32m     10\u001b[0m     \u001b[0mvalue\u001b[0m\u001b[1;33m=\u001b[0m\u001b[0mp\u001b[0m\u001b[1;33m.\u001b[0m\u001b[0mjson\u001b[0m\u001b[1;33m.\u001b[0m\u001b[0mget\u001b[0m\u001b[1;33m(\u001b[0m\u001b[1;34m'prices'\u001b[0m\u001b[1;33m)\u001b[0m\u001b[1;33m[\u001b[0m\u001b[1;36m0\u001b[0m\u001b[1;33m]\u001b[0m\u001b[1;33m\u001b[0m\u001b[0m\n\u001b[0;32m     11\u001b[0m     \u001b[1;32mprint\u001b[0m \u001b[0mvalue\u001b[0m\u001b[1;33m.\u001b[0m\u001b[0mkeys\u001b[0m\u001b[1;33m(\u001b[0m\u001b[1;33m)\u001b[0m\u001b[1;33m\u001b[0m\u001b[0m\n",
      "\u001b[1;31mTypeError\u001b[0m: dump() takes at least 2 arguments (1 given)"
     ]
    }
   ],
   "source": [
    "'''This is a job scheduler which sends a request to Uber API \n",
    "to get pricing Details and then send message to Kafka Topic.\n",
    "'''\n",
    "for route in permutation_dict:\n",
    "    message,key=getPriceEstimate(route,permutation_dict[route][0][0][0],permutation_dict[route][0][0][1],permutation_dict[route][0][1][0],permutation_dict[route][0][1][1])\n",
    "    \n",
    "    genMessage(message,key,topic)"
   ]
  },
  {
   "cell_type": "code",
   "execution_count": null,
   "metadata": {},
   "outputs": [],
   "source": [
    "permutation_dict"
   ]
  },
  {
   "cell_type": "code",
   "execution_count": null,
   "metadata": {},
   "outputs": [],
   "source": []
  }
 ],
 "metadata": {
  "kernelspec": {
   "display_name": "Python 2",
   "language": "python",
   "name": "python2"
  },
  "language_info": {
   "codemirror_mode": {
    "name": "ipython",
    "version": 2
   },
   "file_extension": ".py",
   "mimetype": "text/x-python",
   "name": "python",
   "nbconvert_exporter": "python",
   "pygments_lexer": "ipython2",
   "version": "2.7.14"
  }
 },
 "nbformat": 4,
 "nbformat_minor": 2
}
